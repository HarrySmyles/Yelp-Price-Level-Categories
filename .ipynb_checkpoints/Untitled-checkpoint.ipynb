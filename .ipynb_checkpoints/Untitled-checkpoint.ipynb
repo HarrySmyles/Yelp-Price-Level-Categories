{
 "cells": [
  {
   "cell_type": "code",
   "execution_count": 15,
   "metadata": {},
   "outputs": [],
   "source": [
    "import json\n",
    "import pandas as pd\n",
    "import numpy as np"
   ]
  },
  {
   "cell_type": "code",
   "execution_count": 2,
   "metadata": {},
   "outputs": [],
   "source": [
    "file = 'business.json'"
   ]
  },
  {
   "cell_type": "code",
   "execution_count": 4,
   "metadata": {},
   "outputs": [],
   "source": [
    "with open(file, 'r', encoding='utf8', errors='ignore') as f:\n",
    "    data = json.loads(\"[\" +\n",
    "        f.read().replace(\"}\\n{\", \"},\\n{\") + \"]\")"
   ]
  },
  {
   "cell_type": "code",
   "execution_count": 5,
   "metadata": {},
   "outputs": [
    {
     "name": "stdout",
     "output_type": "stream",
     "text": [
      "{'business_id': '1SWheh84yJXfytovILXOAQ', 'name': 'Arizona Biltmore Golf Club', 'address': '2818 E Camino Acequia Drive', 'city': 'Phoenix', 'state': 'AZ', 'postal_code': '85016', 'latitude': 33.5221425, 'longitude': -112.0184807, 'stars': 3.0, 'review_count': 5, 'is_open': 0, 'attributes': {'GoodForKids': 'False'}, 'categories': 'Golf, Active Life', 'hours': None}\n"
     ]
    }
   ],
   "source": [
    "print(data[0])"
   ]
  },
  {
   "cell_type": "code",
   "execution_count": 9,
   "metadata": {},
   "outputs": [],
   "source": [
    "df = pd.DataFrame(data)"
   ]
  },
  {
   "cell_type": "code",
   "execution_count": 16,
   "metadata": {},
   "outputs": [
    {
     "data": {
      "text/plain": [
       "(192609, 14)"
      ]
     },
     "execution_count": 16,
     "metadata": {},
     "output_type": "execute_result"
    }
   ],
   "source": [
    "df.head()\n",
    "df.shape"
   ]
  },
  {
   "cell_type": "code",
   "execution_count": 19,
   "metadata": {},
   "outputs": [],
   "source": [
    "mask = df['review_count'] < 100\n",
    "df = df.loc[~mask, :]\n",
    "df = df.reset_index(drop=True)"
   ]
  },
  {
   "cell_type": "code",
   "execution_count": 20,
   "metadata": {},
   "outputs": [
    {
     "data": {
      "text/plain": [
       "(13124, 14)"
      ]
     },
     "execution_count": 20,
     "metadata": {},
     "output_type": "execute_result"
    }
   ],
   "source": [
    "df.shape"
   ]
  },
  {
   "cell_type": "code",
   "execution_count": 21,
   "metadata": {},
   "outputs": [
    {
     "data": {
      "text/html": [
       "<div>\n",
       "<style scoped>\n",
       "    .dataframe tbody tr th:only-of-type {\n",
       "        vertical-align: middle;\n",
       "    }\n",
       "\n",
       "    .dataframe tbody tr th {\n",
       "        vertical-align: top;\n",
       "    }\n",
       "\n",
       "    .dataframe thead th {\n",
       "        text-align: right;\n",
       "    }\n",
       "</style>\n",
       "<table border=\"1\" class=\"dataframe\">\n",
       "  <thead>\n",
       "    <tr style=\"text-align: right;\">\n",
       "      <th></th>\n",
       "      <th>address</th>\n",
       "      <th>attributes</th>\n",
       "      <th>business_id</th>\n",
       "      <th>categories</th>\n",
       "      <th>city</th>\n",
       "      <th>hours</th>\n",
       "      <th>is_open</th>\n",
       "      <th>latitude</th>\n",
       "      <th>longitude</th>\n",
       "      <th>name</th>\n",
       "      <th>postal_code</th>\n",
       "      <th>review_count</th>\n",
       "      <th>stars</th>\n",
       "      <th>state</th>\n",
       "    </tr>\n",
       "  </thead>\n",
       "  <tbody>\n",
       "    <tr>\n",
       "      <th>0</th>\n",
       "      <td>30 Eglinton Avenue W</td>\n",
       "      <td>{'RestaurantsReservations': 'True', 'GoodForMe...</td>\n",
       "      <td>QXAEGFB4oINsVuTFxEYKFQ</td>\n",
       "      <td>Specialty Food, Restaurants, Dim Sum, Imported...</td>\n",
       "      <td>Mississauga</td>\n",
       "      <td>{'Monday': '9:0-0:0', 'Tuesday': '9:0-0:0', 'W...</td>\n",
       "      <td>1</td>\n",
       "      <td>43.605499</td>\n",
       "      <td>-79.652289</td>\n",
       "      <td>Emerald Chinese Restaurant</td>\n",
       "      <td>L5R 3E7</td>\n",
       "      <td>128</td>\n",
       "      <td>2.5</td>\n",
       "      <td>ON</td>\n",
       "    </tr>\n",
       "    <tr>\n",
       "      <th>1</th>\n",
       "      <td>10110 Johnston Rd, Ste 15</td>\n",
       "      <td>{'GoodForKids': 'True', 'NoiseLevel': 'u'avera...</td>\n",
       "      <td>gnKjwL_1w79qoiV3IC_xQQ</td>\n",
       "      <td>Sushi Bars, Restaurants, Japanese</td>\n",
       "      <td>Charlotte</td>\n",
       "      <td>{'Monday': '17:30-21:30', 'Wednesday': '17:30-...</td>\n",
       "      <td>1</td>\n",
       "      <td>35.092564</td>\n",
       "      <td>-80.859132</td>\n",
       "      <td>Musashi Japanese Restaurant</td>\n",
       "      <td>28210</td>\n",
       "      <td>170</td>\n",
       "      <td>4.0</td>\n",
       "      <td>NC</td>\n",
       "    </tr>\n",
       "    <tr>\n",
       "      <th>2</th>\n",
       "      <td>6007 Dean Martin Dr</td>\n",
       "      <td>{'BikeParking': 'False', 'Ambience': '{'romant...</td>\n",
       "      <td>KWywu2tTEPWmR9JnBc0WyQ</td>\n",
       "      <td>Nightlife, Arts &amp; Entertainment, Bars, Strip C...</td>\n",
       "      <td>Las Vegas</td>\n",
       "      <td>{'Thursday': '19:30-2:0', 'Friday': '19:30-3:0...</td>\n",
       "      <td>1</td>\n",
       "      <td>36.080168</td>\n",
       "      <td>-115.182756</td>\n",
       "      <td>Hunk Mansion</td>\n",
       "      <td>89118</td>\n",
       "      <td>107</td>\n",
       "      <td>4.0</td>\n",
       "      <td>NV</td>\n",
       "    </tr>\n",
       "    <tr>\n",
       "      <th>3</th>\n",
       "      <td>6055 E Lake Mead Blvd</td>\n",
       "      <td>{'BikeParking': 'True', 'BusinessParking': '{'...</td>\n",
       "      <td>tstimHoMcYbkSC4eBA1wEg</td>\n",
       "      <td>Mexican, Restaurants, Patisserie/Cake Shop, Fo...</td>\n",
       "      <td>Las Vegas</td>\n",
       "      <td>{'Monday': '11:0-21:0', 'Tuesday': '10:0-21:0'...</td>\n",
       "      <td>1</td>\n",
       "      <td>36.195615</td>\n",
       "      <td>-115.040529</td>\n",
       "      <td>Maria's Mexican Restaurant &amp; Bakery</td>\n",
       "      <td>89156</td>\n",
       "      <td>184</td>\n",
       "      <td>4.5</td>\n",
       "      <td>NV</td>\n",
       "    </tr>\n",
       "    <tr>\n",
       "      <th>4</th>\n",
       "      <td>17025 N Scottsdale Rd, Ste 110</td>\n",
       "      <td>{'BikeParking': 'True', 'BusinessParking': '{'...</td>\n",
       "      <td>q2KtxnPa6rPSpAlMbg9l8g</td>\n",
       "      <td>Desserts, Food, Cupcakes, Bakeries</td>\n",
       "      <td>Scottsdale</td>\n",
       "      <td>{'Monday': '9:0-18:0', 'Tuesday': '9:0-18:0', ...</td>\n",
       "      <td>1</td>\n",
       "      <td>33.640308</td>\n",
       "      <td>-111.924528</td>\n",
       "      <td>Nothing Bundt Cakes</td>\n",
       "      <td>85255</td>\n",
       "      <td>174</td>\n",
       "      <td>4.0</td>\n",
       "      <td>AZ</td>\n",
       "    </tr>\n",
       "  </tbody>\n",
       "</table>\n",
       "</div>"
      ],
      "text/plain": [
       "                          address  \\\n",
       "0            30 Eglinton Avenue W   \n",
       "1       10110 Johnston Rd, Ste 15   \n",
       "2             6007 Dean Martin Dr   \n",
       "3           6055 E Lake Mead Blvd   \n",
       "4  17025 N Scottsdale Rd, Ste 110   \n",
       "\n",
       "                                          attributes             business_id  \\\n",
       "0  {'RestaurantsReservations': 'True', 'GoodForMe...  QXAEGFB4oINsVuTFxEYKFQ   \n",
       "1  {'GoodForKids': 'True', 'NoiseLevel': 'u'avera...  gnKjwL_1w79qoiV3IC_xQQ   \n",
       "2  {'BikeParking': 'False', 'Ambience': '{'romant...  KWywu2tTEPWmR9JnBc0WyQ   \n",
       "3  {'BikeParking': 'True', 'BusinessParking': '{'...  tstimHoMcYbkSC4eBA1wEg   \n",
       "4  {'BikeParking': 'True', 'BusinessParking': '{'...  q2KtxnPa6rPSpAlMbg9l8g   \n",
       "\n",
       "                                          categories         city  \\\n",
       "0  Specialty Food, Restaurants, Dim Sum, Imported...  Mississauga   \n",
       "1                  Sushi Bars, Restaurants, Japanese    Charlotte   \n",
       "2  Nightlife, Arts & Entertainment, Bars, Strip C...    Las Vegas   \n",
       "3  Mexican, Restaurants, Patisserie/Cake Shop, Fo...    Las Vegas   \n",
       "4                 Desserts, Food, Cupcakes, Bakeries   Scottsdale   \n",
       "\n",
       "                                               hours  is_open   latitude  \\\n",
       "0  {'Monday': '9:0-0:0', 'Tuesday': '9:0-0:0', 'W...        1  43.605499   \n",
       "1  {'Monday': '17:30-21:30', 'Wednesday': '17:30-...        1  35.092564   \n",
       "2  {'Thursday': '19:30-2:0', 'Friday': '19:30-3:0...        1  36.080168   \n",
       "3  {'Monday': '11:0-21:0', 'Tuesday': '10:0-21:0'...        1  36.195615   \n",
       "4  {'Monday': '9:0-18:0', 'Tuesday': '9:0-18:0', ...        1  33.640308   \n",
       "\n",
       "    longitude                                 name postal_code  review_count  \\\n",
       "0  -79.652289           Emerald Chinese Restaurant     L5R 3E7           128   \n",
       "1  -80.859132          Musashi Japanese Restaurant       28210           170   \n",
       "2 -115.182756                         Hunk Mansion       89118           107   \n",
       "3 -115.040529  Maria's Mexican Restaurant & Bakery       89156           184   \n",
       "4 -111.924528                  Nothing Bundt Cakes       85255           174   \n",
       "\n",
       "   stars state  \n",
       "0    2.5    ON  \n",
       "1    4.0    NC  \n",
       "2    4.0    NV  \n",
       "3    4.5    NV  \n",
       "4    4.0    AZ  "
      ]
     },
     "execution_count": 21,
     "metadata": {},
     "output_type": "execute_result"
    }
   ],
   "source": [
    "df.head()"
   ]
  },
  {
   "cell_type": "code",
   "execution_count": 22,
   "metadata": {},
   "outputs": [
    {
     "name": "stdout",
     "output_type": "stream",
     "text": [
      "Enter State to train Data: CA\n",
      "Enter City to train Data: San Francisco\n"
     ]
    }
   ],
   "source": [
    "train_state = input(\"Enter State to train Data: \")\n",
    "train_city = input(\"Enter City to train Data: \")"
   ]
  },
  {
   "cell_type": "code",
   "execution_count": null,
   "metadata": {},
   "outputs": [],
   "source": [
    "mask = df['review_count'] < 100\n",
    "df = df.loc[~mask, :]\n",
    "df = df.reset_index(drop=True)\n",
    "mask = df['review_count'] < 100\n",
    "df = df.loc[~mask, :]\n",
    "df = df.reset_index(drop=True)"
   ]
  }
 ],
 "metadata": {
  "kernelspec": {
   "display_name": "Python 3",
   "language": "python",
   "name": "python3"
  },
  "language_info": {
   "codemirror_mode": {
    "name": "ipython",
    "version": 3
   },
   "file_extension": ".py",
   "mimetype": "text/x-python",
   "name": "python",
   "nbconvert_exporter": "python",
   "pygments_lexer": "ipython3",
   "version": "3.7.3"
  }
 },
 "nbformat": 4,
 "nbformat_minor": 2
}
