{
 "cells": [
  {
   "cell_type": "code",
   "execution_count": 1,
   "metadata": {},
   "outputs": [],
   "source": [
    "import json\n",
    "import pandas as pd\n",
    "import numpy as np\n",
    "import requests\n",
    "from yelpapi import YelpAPI"
   ]
  },
  {
   "cell_type": "code",
   "execution_count": 37,
   "metadata": {},
   "outputs": [],
   "source": [
    "app_id = 'FTUzEBJLSrEfwOap206MMw'\n",
    "app_key = 'YPwzyGGyAd9jFcTIJq6rIo-Gmbmlh5MtOli4exHEJSg9HOiJ8M6yNGqLSm1DYhboL-E0Mu9OG2egQjuGXwbf88EOY0wiUKkkAXAQEOUNDfk5jgOuQ2iYUHBKnYIdXnYx'\n",
    "yapi = YelpAPI(app_key)\n"
   ]
  },
  {
   "cell_type": "code",
   "execution_count": 35,
   "metadata": {},
   "outputs": [
    {
     "name": "stdout",
     "output_type": "stream",
     "text": [
      "Enter State to train Data: NV\n",
      "Enter City to train Data: Las Vegas\n"
     ]
    }
   ],
   "source": [
    "train_state = input(\"Enter State to train Data: \")\n",
    "train_city = input(\"Enter City to train Data: \")"
   ]
  },
  {
   "cell_type": "code",
   "execution_count": 36,
   "metadata": {},
   "outputs": [],
   "source": [
    "train_location = train_city.lower() + \", \" + train_state.lower()\n",
    "business_list = []"
   ]
  },
  {
   "cell_type": "code",
   "execution_count": 30,
   "metadata": {},
   "outputs": [],
   "source": [
    "for i in range(0, 5):\n",
    "    search_results = yapi.search_query(location = train_location, sort_by = 'review_count', limit = 50, offset = ((i * 50) + 1))\n",
    "    business_list = business_list + search_results['businesses']"
   ]
  },
  {
   "cell_type": "code",
   "execution_count": 31,
   "metadata": {},
   "outputs": [],
   "source": [
    "df = pd.DataFrame(business_list)"
   ]
  },
  {
   "cell_type": "code",
   "execution_count": 32,
   "metadata": {},
   "outputs": [
    {
     "data": {
      "text/html": [
       "<div>\n",
       "<style scoped>\n",
       "    .dataframe tbody tr th:only-of-type {\n",
       "        vertical-align: middle;\n",
       "    }\n",
       "\n",
       "    .dataframe tbody tr th {\n",
       "        vertical-align: top;\n",
       "    }\n",
       "\n",
       "    .dataframe thead th {\n",
       "        text-align: right;\n",
       "    }\n",
       "</style>\n",
       "<table border=\"1\" class=\"dataframe\">\n",
       "  <thead>\n",
       "    <tr style=\"text-align: right;\">\n",
       "      <th></th>\n",
       "      <th>alias</th>\n",
       "      <th>categories</th>\n",
       "      <th>coordinates</th>\n",
       "      <th>display_phone</th>\n",
       "      <th>distance</th>\n",
       "      <th>id</th>\n",
       "      <th>image_url</th>\n",
       "      <th>is_closed</th>\n",
       "      <th>location</th>\n",
       "      <th>name</th>\n",
       "      <th>phone</th>\n",
       "      <th>price</th>\n",
       "      <th>rating</th>\n",
       "      <th>review_count</th>\n",
       "      <th>transactions</th>\n",
       "      <th>url</th>\n",
       "    </tr>\n",
       "  </thead>\n",
       "  <tbody>\n",
       "    <tr>\n",
       "      <th>0</th>\n",
       "      <td>mon-ami-gabi-las-vegas-2</td>\n",
       "      <td>[{'alias': 'french', 'title': 'French'}, {'ali...</td>\n",
       "      <td>{'latitude': 36.112859, 'longitude': -115.172434}</td>\n",
       "      <td>(702) 944-4224</td>\n",
       "      <td>4889.028696</td>\n",
       "      <td>4JNXUYY8wbaaDmk3BPzlWw</td>\n",
       "      <td>https://s3-media4.fl.yelpcdn.com/bphoto/pUDzyS...</td>\n",
       "      <td>False</td>\n",
       "      <td>{'address1': '3655 Las Vegas Blvd S', 'address...</td>\n",
       "      <td>Mon Ami Gabi</td>\n",
       "      <td>+17029444224</td>\n",
       "      <td>$$</td>\n",
       "      <td>4.0</td>\n",
       "      <td>9313</td>\n",
       "      <td>[delivery]</td>\n",
       "      <td>https://www.yelp.com/biz/mon-ami-gabi-las-vega...</td>\n",
       "    </tr>\n",
       "    <tr>\n",
       "      <th>1</th>\n",
       "      <td>egg-and-i-las-vegas</td>\n",
       "      <td>[{'alias': 'breakfast_brunch', 'title': 'Break...</td>\n",
       "      <td>{'latitude': 36.1443697895445, 'longitude': -1...</td>\n",
       "      <td>(702) 364-9686</td>\n",
       "      <td>5909.469179</td>\n",
       "      <td>3kdSl5mo9dWC4clrQjEDGg</td>\n",
       "      <td>https://s3-media3.fl.yelpcdn.com/bphoto/tDnWv0...</td>\n",
       "      <td>False</td>\n",
       "      <td>{'address1': '4533 W Sahara Ave', 'address2': ...</td>\n",
       "      <td>Egg &amp; I</td>\n",
       "      <td>+17023649686</td>\n",
       "      <td>$$</td>\n",
       "      <td>4.5</td>\n",
       "      <td>4072</td>\n",
       "      <td>[delivery]</td>\n",
       "      <td>https://www.yelp.com/biz/egg-and-i-las-vegas?a...</td>\n",
       "    </tr>\n",
       "    <tr>\n",
       "      <th>2</th>\n",
       "      <td>earl-of-sandwich-las-vegas</td>\n",
       "      <td>[{'alias': 'sandwiches', 'title': 'Sandwiches'...</td>\n",
       "      <td>{'latitude': 36.1094075, 'longitude': -115.171...</td>\n",
       "      <td>(702) 463-0259</td>\n",
       "      <td>5153.856008</td>\n",
       "      <td>DkYS3arLOhA8si5uUEmHOw</td>\n",
       "      <td>https://s3-media2.fl.yelpcdn.com/bphoto/snFM4h...</td>\n",
       "      <td>False</td>\n",
       "      <td>{'address1': '3667 Las Vegas Blvd S', 'address...</td>\n",
       "      <td>Earl of Sandwich</td>\n",
       "      <td>+17024630259</td>\n",
       "      <td>$</td>\n",
       "      <td>4.5</td>\n",
       "      <td>5238</td>\n",
       "      <td>[]</td>\n",
       "      <td>https://www.yelp.com/biz/earl-of-sandwich-las-...</td>\n",
       "    </tr>\n",
       "    <tr>\n",
       "      <th>3</th>\n",
       "      <td>el-dorado-cantina-las-vegas</td>\n",
       "      <td>[{'alias': 'mexican', 'title': 'Mexican'}, {'a...</td>\n",
       "      <td>{'latitude': 36.135072, 'longitude': -115.171247}</td>\n",
       "      <td>(702) 722-2289</td>\n",
       "      <td>3331.850131</td>\n",
       "      <td>JDZ6_yycNQFTpUZzLIKHUg</td>\n",
       "      <td>https://s3-media3.fl.yelpcdn.com/bphoto/C2rDff...</td>\n",
       "      <td>False</td>\n",
       "      <td>{'address1': '3025 Sammy Davis Jr Dr', 'addres...</td>\n",
       "      <td>El Dorado Cantina</td>\n",
       "      <td>+17027222289</td>\n",
       "      <td>$$</td>\n",
       "      <td>4.5</td>\n",
       "      <td>3989</td>\n",
       "      <td>[pickup, delivery, restaurant_reservation]</td>\n",
       "      <td>https://www.yelp.com/biz/el-dorado-cantina-las...</td>\n",
       "    </tr>\n",
       "    <tr>\n",
       "      <th>4</th>\n",
       "      <td>gordon-ramsay-hells-kitchen-las-vegas-2</td>\n",
       "      <td>[{'alias': 'newamerican', 'title': 'American (...</td>\n",
       "      <td>{'latitude': 36.11618, 'longitude': -115.175068}</td>\n",
       "      <td>(702) 731-7373</td>\n",
       "      <td>4784.032897</td>\n",
       "      <td>vHz2RLtfUMVRPFmd7VBEHA</td>\n",
       "      <td>https://s3-media4.fl.yelpcdn.com/bphoto/mFimEc...</td>\n",
       "      <td>False</td>\n",
       "      <td>{'address1': '3570 Las Vegas Blvd S', 'address...</td>\n",
       "      <td>Gordon Ramsay Hell's Kitchen</td>\n",
       "      <td>+17027317373</td>\n",
       "      <td>$$$</td>\n",
       "      <td>4.5</td>\n",
       "      <td>4861</td>\n",
       "      <td>[]</td>\n",
       "      <td>https://www.yelp.com/biz/gordon-ramsay-hells-k...</td>\n",
       "    </tr>\n",
       "  </tbody>\n",
       "</table>\n",
       "</div>"
      ],
      "text/plain": [
       "                                     alias  \\\n",
       "0                 mon-ami-gabi-las-vegas-2   \n",
       "1                      egg-and-i-las-vegas   \n",
       "2               earl-of-sandwich-las-vegas   \n",
       "3              el-dorado-cantina-las-vegas   \n",
       "4  gordon-ramsay-hells-kitchen-las-vegas-2   \n",
       "\n",
       "                                          categories  \\\n",
       "0  [{'alias': 'french', 'title': 'French'}, {'ali...   \n",
       "1  [{'alias': 'breakfast_brunch', 'title': 'Break...   \n",
       "2  [{'alias': 'sandwiches', 'title': 'Sandwiches'...   \n",
       "3  [{'alias': 'mexican', 'title': 'Mexican'}, {'a...   \n",
       "4  [{'alias': 'newamerican', 'title': 'American (...   \n",
       "\n",
       "                                         coordinates   display_phone  \\\n",
       "0  {'latitude': 36.112859, 'longitude': -115.172434}  (702) 944-4224   \n",
       "1  {'latitude': 36.1443697895445, 'longitude': -1...  (702) 364-9686   \n",
       "2  {'latitude': 36.1094075, 'longitude': -115.171...  (702) 463-0259   \n",
       "3  {'latitude': 36.135072, 'longitude': -115.171247}  (702) 722-2289   \n",
       "4   {'latitude': 36.11618, 'longitude': -115.175068}  (702) 731-7373   \n",
       "\n",
       "      distance                      id  \\\n",
       "0  4889.028696  4JNXUYY8wbaaDmk3BPzlWw   \n",
       "1  5909.469179  3kdSl5mo9dWC4clrQjEDGg   \n",
       "2  5153.856008  DkYS3arLOhA8si5uUEmHOw   \n",
       "3  3331.850131  JDZ6_yycNQFTpUZzLIKHUg   \n",
       "4  4784.032897  vHz2RLtfUMVRPFmd7VBEHA   \n",
       "\n",
       "                                           image_url  is_closed  \\\n",
       "0  https://s3-media4.fl.yelpcdn.com/bphoto/pUDzyS...      False   \n",
       "1  https://s3-media3.fl.yelpcdn.com/bphoto/tDnWv0...      False   \n",
       "2  https://s3-media2.fl.yelpcdn.com/bphoto/snFM4h...      False   \n",
       "3  https://s3-media3.fl.yelpcdn.com/bphoto/C2rDff...      False   \n",
       "4  https://s3-media4.fl.yelpcdn.com/bphoto/mFimEc...      False   \n",
       "\n",
       "                                            location  \\\n",
       "0  {'address1': '3655 Las Vegas Blvd S', 'address...   \n",
       "1  {'address1': '4533 W Sahara Ave', 'address2': ...   \n",
       "2  {'address1': '3667 Las Vegas Blvd S', 'address...   \n",
       "3  {'address1': '3025 Sammy Davis Jr Dr', 'addres...   \n",
       "4  {'address1': '3570 Las Vegas Blvd S', 'address...   \n",
       "\n",
       "                           name         phone price  rating  review_count  \\\n",
       "0                  Mon Ami Gabi  +17029444224    $$     4.0          9313   \n",
       "1                       Egg & I  +17023649686    $$     4.5          4072   \n",
       "2              Earl of Sandwich  +17024630259     $     4.5          5238   \n",
       "3             El Dorado Cantina  +17027222289    $$     4.5          3989   \n",
       "4  Gordon Ramsay Hell's Kitchen  +17027317373   $$$     4.5          4861   \n",
       "\n",
       "                                 transactions  \\\n",
       "0                                  [delivery]   \n",
       "1                                  [delivery]   \n",
       "2                                          []   \n",
       "3  [pickup, delivery, restaurant_reservation]   \n",
       "4                                          []   \n",
       "\n",
       "                                                 url  \n",
       "0  https://www.yelp.com/biz/mon-ami-gabi-las-vega...  \n",
       "1  https://www.yelp.com/biz/egg-and-i-las-vegas?a...  \n",
       "2  https://www.yelp.com/biz/earl-of-sandwich-las-...  \n",
       "3  https://www.yelp.com/biz/el-dorado-cantina-las...  \n",
       "4  https://www.yelp.com/biz/gordon-ramsay-hells-k...  "
      ]
     },
     "execution_count": 32,
     "metadata": {},
     "output_type": "execute_result"
    }
   ],
   "source": [
    "df.head()"
   ]
  },
  {
   "cell_type": "code",
   "execution_count": 33,
   "metadata": {},
   "outputs": [
    {
     "data": {
      "text/plain": [
       "(750, 16)"
      ]
     },
     "execution_count": 33,
     "metadata": {},
     "output_type": "execute_result"
    }
   ],
   "source": [
    "df.shape"
   ]
  },
  {
   "cell_type": "code",
   "execution_count": null,
   "metadata": {},
   "outputs": [],
   "source": []
  }
 ],
 "metadata": {
  "kernelspec": {
   "display_name": "Python 3",
   "language": "python",
   "name": "python3"
  },
  "language_info": {
   "codemirror_mode": {
    "name": "ipython",
    "version": 3
   },
   "file_extension": ".py",
   "mimetype": "text/x-python",
   "name": "python",
   "nbconvert_exporter": "python",
   "pygments_lexer": "ipython3",
   "version": "3.7.3"
  }
 },
 "nbformat": 4,
 "nbformat_minor": 2
}
