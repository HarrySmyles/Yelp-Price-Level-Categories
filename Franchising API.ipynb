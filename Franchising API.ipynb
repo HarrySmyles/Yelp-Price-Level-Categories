{
 "cells": [
  {
   "cell_type": "code",
   "execution_count": 40,
   "metadata": {},
   "outputs": [],
   "source": [
    "import json\n",
    "import pandas as pd\n",
    "import numpy as np\n",
    "import requests\n",
    "import matplotlib.pyplot as plt\n",
    "from yelpapi import YelpAPI"
   ]
  },
  {
   "cell_type": "code",
   "execution_count": 2,
   "metadata": {},
   "outputs": [],
   "source": [
    "app_id = 'FTUzEBJLSrEfwOap206MMw'\n",
    "app_key = 'YPwzyGGyAd9jFcTIJq6rIo-Gmbmlh5MtOli4exHEJSg9HOiJ8M6yNGqLSm1DYhboL-E0Mu9OG2egQjuGXwbf88EOY0wiUKkkAXAQEOUNDfk5jgOuQ2iYUHBKnYIdXnYx'\n",
    "yapi = YelpAPI(app_key)\n"
   ]
  },
  {
   "cell_type": "code",
   "execution_count": 5,
   "metadata": {},
   "outputs": [
    {
     "name": "stdout",
     "output_type": "stream",
     "text": [
      "Enter State to train Data: CA\n",
      "Enter City to train Data: San Diego\n"
     ]
    }
   ],
   "source": [
    "train_state = input(\"Enter State to train Data: \")\n",
    "train_city = input(\"Enter City to train Data: \")"
   ]
  },
  {
   "cell_type": "code",
   "execution_count": 6,
   "metadata": {},
   "outputs": [],
   "source": [
    "train_location = train_city.lower() + \", \" + train_state.lower()\n",
    "business_list = []"
   ]
  },
  {
   "cell_type": "code",
   "execution_count": 46,
   "metadata": {},
   "outputs": [],
   "source": [
    "business_list = []\n",
    "for i in range(0, 19):\n",
    "    try:\n",
    "        search_results = yapi.search_query(location = train_location, sort_by = 'review_count', limit = 50, offset = ((i * 25) + 1))\n",
    "        #search_results = yapi.search_query(location = train_location, categories = \"bubbletea\", sort_by = 'review_count', limit = 25, offset = ((i * 25) + 1))\n",
    "        business_list = business_list + search_results['businesses']\n",
    "    except:\n",
    "        break"
   ]
  },
  {
   "cell_type": "code",
   "execution_count": 47,
   "metadata": {},
   "outputs": [
    {
     "data": {
      "text/plain": [
       "950"
      ]
     },
     "execution_count": 47,
     "metadata": {},
     "output_type": "execute_result"
    }
   ],
   "source": [
    "df = pd.DataFrame(business_list)\n",
    "len(df)"
   ]
  },
  {
   "cell_type": "code",
   "execution_count": 37,
   "metadata": {
    "scrolled": true
   },
   "outputs": [],
   "source": [
    "\n",
    "del df['display_phone']\n",
    "del df['coordinates']\n",
    "del df['image_url']\n",
    "del df['is_closed']\n",
    "del df['phone']\n",
    "del df['transactions']\n",
    "del df['url']\n",
    "for i, cats in enumerate(df['categories']):\n",
    "    out_list = []\n",
    "    for category in cats:\n",
    "        out_list.append(category['title'])\n",
    "    df.at[i, 'categories'] = out_list\n"
   ]
  },
  {
   "cell_type": "code",
   "execution_count": 14,
   "metadata": {},
   "outputs": [],
   "source": [
    "df_train = df\n",
    "del df_train['alias']\n",
    "del df_train['id']\n",
    "del df_train['location']"
   ]
  },
  {
   "cell_type": "code",
   "execution_count": 48,
   "metadata": {},
   "outputs": [],
   "source": [
    "categories = [len(cats) for cats in df['categories']]\n",
    "rating = list(df['rating'])"
   ]
  },
  {
   "cell_type": "code",
   "execution_count": 50,
   "metadata": {},
   "outputs": [
    {
     "data": {
      "text/plain": [
       "950"
      ]
     },
     "execution_count": 50,
     "metadata": {},
     "output_type": "execute_result"
    }
   ],
   "source": [
    "len(categories)"
   ]
  },
  {
   "cell_type": "code",
   "execution_count": 49,
   "metadata": {},
   "outputs": [
    {
     "data": {
      "image/png": "[encoded data removed]",
      "text/plain": [
       "<Figure size 432x288 with 1 Axes>"
      ]
     },
     "metadata": {
      "needs_background": "light"
     },
     "output_type": "display_data"
    }
   ],
   "source": [
    "fig, ax = plt.subplots()\n",
    "ax.scatter(categories, rating)\n",
    "plt.show()"
   ]
  },
  {
   "cell_type": "code",
   "execution_count": 41,
   "metadata": {},
   "outputs": [
    {
     "name": "stdout",
     "output_type": "stream",
     "text": [
      "{'Hainan': 1, 'Shanghainese': 1, 'African': 1, 'Performing Arts': 1, 'Brewpubs': 1, 'Specialty Food': 1, 'Food Court': 1, 'Dog Parks': 1, 'Salvadoran': 1, 'Beer, Wine & Spirits': 1, 'Zoos': 1, 'Gelato': 1, 'Venezuelan': 1, \"Children's Museums\": 1, 'Dinner Theater': 1, 'Teppanyaki': 1, 'Conveyor Belt Sushi': 1, 'Colombian': 1, 'Tours': 1, 'Jazz & Blues': 1, 'Kosher': 1, 'Tiki Bars': 1, 'Pop-Up Restaurants': 1, 'Street Vendors': 1, 'Acai Bowls': 1, 'Szechuan': 1, 'Patisserie/Cake Shop': 1, 'Bowling': 1, 'Brasseries': 1, 'Parks': 1, 'Amusement Parks': 2, 'Persian/Iranian': 2, 'Live/Raw Food': 2, 'Cupcakes': 2, 'Music Venues': 2, 'Gay Bars': 2, 'Whiskey Bars': 2, 'Dance Clubs': 2, 'Hiking': 2, 'Botanical Gardens': 2, 'Fish & Chips': 2, 'Hong Kong Style Cafe': 2, 'Seafood Markets': 2, 'Izakaya': 2, 'Food Stands': 2, 'Speakeasies': 2, 'Himalayan/Nepalese': 2, 'Hookah Bars': 2, 'Cheesesteaks': 2, 'Wraps': 2, 'Spanish': 3, 'Singaporean': 3, 'Art Museums': 3, 'Japanese Curry': 3, 'Tapas Bars': 3, 'Creperies': 3, 'Indonesian': 3, 'Malaysian': 3, 'Latin American': 3, 'Peruvian': 3, 'Caribbean': 3, 'Tex-Mex': 3, 'Filipino': 3, 'Grocery': 3, 'Beer Gardens': 3, 'Poke': 3, 'Shaved Ice': 3, 'Museums': 3, 'German': 4, 'Armenian': 4, 'Cuban': 4, 'New Mexican Cuisine': 4, 'Greek': 4, 'British': 4, 'Custom Cakes': 5, 'Modern European': 5, 'Argentine': 5, 'Cantonese': 5, 'Hawaiian': 5, 'Arcades': 5, 'Tea Rooms': 5, 'Hot Pot': 5, 'Breweries': 5, 'Juice Bars & Smoothies': 6, 'Buffets': 6, 'Caterers': 6, 'Lebanese': 6, 'Soul Food': 7, 'Taiwanese': 7, 'Halal': 7, 'Food Trucks': 7, 'Gluten-Free': 7, 'Hot Dogs': 8, 'Middle Eastern': 8, 'Dim Sum': 8, 'Fast Food': 8, 'Brazilian': 9, 'Beer Bar': 9, 'Comfort Food': 9, 'Donuts': 9, 'Bubble Tea': 9, 'Tacos': 9, 'Chicken Shop': 10, 'Waffles': 10, 'Cajun/Creole': 10, 'Sports Bars': 11, 'Indian': 11, 'Chicken Wings': 11, 'Southern': 12, 'Delis': 13, 'Tapas/Small Plates': 13, 'Pubs': 14, 'French': 15, 'Vietnamese': 16, 'Chinese': 17, 'Diners': 17, 'Soup': 18, 'Ice Cream & Frozen Yogurt': 19, 'Vegetarian': 21, 'Salad': 23, 'Venues & Event Spaces': 23, 'Lounges': 24, 'Wine Bars': 25, 'Thai': 27, 'Ramen': 28, 'Noodles': 31, 'Vegan': 32, 'Asian Fusion': 32, 'Mediterranean': 33, 'Cafes': 34, 'Desserts': 36, 'Gastropubs': 39, 'Steakhouses': 39, 'Bakeries': 41, 'Barbeque': 44, 'Pizza': 47, 'Korean': 47, 'Coffee & Tea': 51, 'Cocktail Bars': 54, 'Burgers': 56, 'Bars': 61, 'Seafood': 64, 'Italian': 65, 'Sushi Bars': 65, 'Sandwiches': 67, 'Japanese': 69, 'American (Traditional)': 70, 'Mexican': 72, 'Breakfast & Brunch': 179, 'American (New)': 182}\n"
     ]
    }
   ],
   "source": [
    "category_dict = {}\n",
    "for cat in df['categories']:\n",
    "    for category in cat:\n",
    "        if category in category_dict.keys():\n",
    "            category_dict[category] = category_dict[category] + 1\n",
    "        else:\n",
    "            category_dict.update({category: 1})\n",
    "sorted_dict = {k: v for k, v in sorted(category_dict.items(), key=lambda item: item[1])}\n",
    "print(sorted_dict)\n"
   ]
  },
  {
   "cell_type": "code",
   "execution_count": 44,
   "metadata": {},
   "outputs": [
    {
     "ename": "NameError",
     "evalue": "name 'categories_dict' is not defined",
     "output_type": "error",
     "traceback": [
      "\u001b[1;31m---------------------------------------------------------------------------\u001b[0m",
      "\u001b[1;31mNameError\u001b[0m                                 Traceback (most recent call last)",
      "\u001b[1;32m<ipython-input-44-4c5517e3434a>\u001b[0m in \u001b[0;36m<module>\u001b[1;34m\u001b[0m\n\u001b[1;32m----> 1\u001b[1;33m \u001b[0mprint\u001b[0m\u001b[1;33m(\u001b[0m\u001b[0msum\u001b[0m\u001b[1;33m(\u001b[0m\u001b[0mcategories_dict\u001b[0m\u001b[1;33m.\u001b[0m\u001b[0mvalues\u001b[0m\u001b[1;33m(\u001b[0m\u001b[1;33m)\u001b[0m\u001b[1;33m)\u001b[0m\u001b[1;33m)\u001b[0m\u001b[1;33m\u001b[0m\u001b[1;33m\u001b[0m\u001b[0m\n\u001b[0m",
      "\u001b[1;31mNameError\u001b[0m: name 'categories_dict' is not defined"
     ]
    }
   ],
   "source": [
    "print(sum(categories_dict.values()))"
   ]
  },
  {
   "cell_type": "code",
   "execution_count": null,
   "metadata": {},
   "outputs": [],
   "source": []
  }
 ],
 "metadata": {
  "kernelspec": {
   "display_name": "Python 3",
   "language": "python",
   "name": "python3"
  },
  "language_info": {
   "codemirror_mode": {
    "name": "ipython",
    "version": 3
   },
   "file_extension": ".py",
   "mimetype": "text/x-python",
   "name": "python",
   "nbconvert_exporter": "python",
   "pygments_lexer": "ipython3",
   "version": "3.7.3"
  }
 },
 "nbformat": 4,
 "nbformat_minor": 2
}
